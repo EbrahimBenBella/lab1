{
  "nbformat": 4,
  "nbformat_minor": 0,
  "metadata": {
    "colab": {
      "provenance": [],
      "collapsed_sections": [
        "-IVJK7gBZc71",
        "CTkVV_tYZyLP",
        "CwPnSo9rbaY-",
        "C21biUv4dVWc",
        "7ZyxJbFud41d"
      ],
      "authorship_tag": "ABX9TyPTPTjkDHkbflTFT6kI/KK3",
      "include_colab_link": true
    },
    "kernelspec": {
      "name": "python3",
      "display_name": "Python 3"
    },
    "language_info": {
      "name": "python"
    }
  },
  "cells": [
    {
      "cell_type": "markdown",
      "metadata": {
        "id": "view-in-github",
        "colab_type": "text"
      },
      "source": [
        "<a href=\"https://colab.research.google.com/github/EbrahimBenBella/lab1/blob/main/Session1.ipynb\" target=\"_parent\"><img src=\"https://colab.research.google.com/assets/colab-badge.svg\" alt=\"Open In Colab\"/></a>"
      ]
    },
    {
      "cell_type": "markdown",
      "source": [
        "###Lab 1: Environment Setup & Python Basics\n",
        "## Objectives:\n",
        "1. Set up Google Colab environment\n",
        "2. Learn basic GitHub integration\n",
        "3. Review fundamental Python concepts\n",
        "4. Prepare for future AI labs"
      ],
      "metadata": {
        "id": "dj6kKg2aXB-6"
      }
    },
    {
      "cell_type": "markdown",
      "source": [
        "### Google Colab Basics\n",
        "Colab provides:\n",
        "- Free access to GPUs/TPUs\n",
        "- Pre-installed ML libraries\n",
        "- Cloud-based Jupyter notebooks\n",
        "\n",
        "Shortcuts:\n",
        "- Ctrl+Enter: Run current cell\n",
        "- Shift+Enter: Run cell and move to next\n",
        "- Alt+Enter: Run cell and insert new below"
      ],
      "metadata": {
        "id": "5QoZirVaXTFq"
      }
    },
    {
      "cell_type": "markdown",
      "source": [
        "## Part 2: Python Basics Refresher\n",
        "Let's review essential Python concepts needed for AI work."
      ],
      "metadata": {
        "id": "TGF7mvN7Y8Uz"
      }
    },
    {
      "cell_type": "markdown",
      "source": [
        "### 1. Variables and Data Types"
      ],
      "metadata": {
        "id": "-IVJK7gBZc71"
      }
    },
    {
      "cell_type": "markdown",
      "source": [
        "| Data types     | Type          |         |\n",
        "| :------------: | :-----------: |:------: |\n",
        "| **String**     | **immutable** |  |\n",
        "| **List**       | **mutable**   |✎|\n",
        "| **Tuple**      | **immutable** |  |\n",
        "| **Dictionary** | **mutable**   |✎|\n",
        "| **Set**        | **immutable** |  |"
      ],
      "metadata": {
        "id": "yacPiRYgyJfL"
      }
    },
    {
      "cell_type": "code",
      "source": [
        "integer_var = 10\n",
        "float_var = 3.14\n",
        "string_var = \"Hello AI Students\"\n",
        "boolean_var = True\n",
        "\n",
        "print(f\"Integer: {integer_var}, type: {type(integer_var)}\")\n",
        "print(f\"Float: {float_var}, type: {type(float_var)}\")\n",
        "print(f\"String: {string_var}, type: {type(string_var)}\")\n",
        "print(f\"Boolean: {boolean_var}, type: {type(boolean_var)}\")"
      ],
      "metadata": {
        "id": "m4C8DnXUY9rq",
        "colab": {
          "base_uri": "https://localhost:8080/"
        },
        "outputId": "6bb8c6e7-cfb5-4d9b-ec0c-4b926eee43bb"
      },
      "execution_count": 28,
      "outputs": [
        {
          "output_type": "stream",
          "name": "stdout",
          "text": [
            "Integer: 10, type: <class 'int'>\n",
            "Float: 3.14, type: <class 'float'>\n",
            "String: Hello AI Students, type: <class 'str'>\n",
            "Boolean: True, type: <class 'bool'>\n"
          ]
        }
      ]
    },
    {
      "cell_type": "markdown",
      "source": [
        "### 2. Lists, Tuples, Dictionaries"
      ],
      "metadata": {
        "id": "CTkVV_tYZyLP"
      }
    },
    {
      "cell_type": "code",
      "source": [
        "# Lists (mutable)\n",
        "ai_topics = [\"neural networks\", \"computer vision\", \"nlp\"]\n",
        "ai_topics.append(\"reinforcement learning\")\n",
        "print(\"AI Topics:\", ai_topics)"
      ],
      "metadata": {
        "id": "ecH_68N3ZzBi"
      },
      "execution_count": null,
      "outputs": []
    },
    {
      "cell_type": "code",
      "source": [
        "mylist=[2,4,6,7,8]\n",
        "mylist[0]=1\n",
        "mylist\n"
      ],
      "metadata": {
        "colab": {
          "base_uri": "https://localhost:8080/"
        },
        "id": "pJvAqDfO5kc7",
        "outputId": "81b932d4-5ad5-4ede-b087-e9fa35d91a19"
      },
      "execution_count": 29,
      "outputs": [
        {
          "output_type": "execute_result",
          "data": {
            "text/plain": [
              "[1, 4, 6, 7, 8]"
            ]
          },
          "metadata": {},
          "execution_count": 29
        }
      ]
    },
    {
      "cell_type": "code",
      "source": [
        "mylist.pop()\n"
      ],
      "metadata": {
        "colab": {
          "base_uri": "https://localhost:8080/"
        },
        "id": "sJsvcXZqiQJn",
        "outputId": "169e9281-e62a-4408-ac7f-7f0904985f1c"
      },
      "execution_count": 30,
      "outputs": [
        {
          "output_type": "execute_result",
          "data": {
            "text/plain": [
              "8"
            ]
          },
          "metadata": {},
          "execution_count": 30
        }
      ]
    },
    {
      "cell_type": "code",
      "source": [
        "mylist=[10,12,14]\n",
        "mylist.append(5)\n",
        "mylist"
      ],
      "metadata": {
        "colab": {
          "base_uri": "https://localhost:8080/"
        },
        "id": "MhaisWgPFzGF",
        "outputId": "d4d6ba99-a321-46b6-ea4e-94963860975d"
      },
      "execution_count": 38,
      "outputs": [
        {
          "output_type": "execute_result",
          "data": {
            "text/plain": [
              "[10, 12, 14, 5]"
            ]
          },
          "metadata": {},
          "execution_count": 38
        }
      ]
    },
    {
      "cell_type": "code",
      "source": [
        "mylist.sort()\n",
        "mylist"
      ],
      "metadata": {
        "colab": {
          "base_uri": "https://localhost:8080/"
        },
        "id": "R-Os7MUJin5Y",
        "outputId": "494ed98b-b943-4d64-b8f0-0cd3c7ea4acf"
      },
      "execution_count": 33,
      "outputs": [
        {
          "output_type": "execute_result",
          "data": {
            "text/plain": [
              "[1, 4, 5, 5, 6, 7]"
            ]
          },
          "metadata": {},
          "execution_count": 33
        }
      ]
    },
    {
      "cell_type": "code",
      "source": [
        "print(len(mylist))"
      ],
      "metadata": {
        "colab": {
          "base_uri": "https://localhost:8080/"
        },
        "id": "DmRHRSDXiw3m",
        "outputId": "af103ee0-f75b-4e05-be77-f1b0c0ec1491"
      },
      "execution_count": 34,
      "outputs": [
        {
          "output_type": "stream",
          "name": "stdout",
          "text": [
            "6\n"
          ]
        }
      ]
    },
    {
      "cell_type": "code",
      "source": [
        "# Tuples (immutable)\n",
        "dimensions = (224, 224, 3)\n",
        "print(\"Image dimensions:\", dimensions)"
      ],
      "metadata": {
        "id": "vb4zyttPaX7u",
        "colab": {
          "base_uri": "https://localhost:8080/"
        },
        "outputId": "a1ce325d-1f42-4ef5-9acb-98e2ec10c1f6"
      },
      "execution_count": 35,
      "outputs": [
        {
          "output_type": "stream",
          "name": "stdout",
          "text": [
            "Image dimensions: (224, 224, 3)\n"
          ]
        }
      ]
    },
    {
      "cell_type": "code",
      "source": [
        "dimensions[1]=2"
      ],
      "metadata": {
        "id": "7xJ-90RA5mme",
        "colab": {
          "base_uri": "https://localhost:8080/",
          "height": 141
        },
        "outputId": "531395c0-a9fe-41e5-eb1e-83a8dbf9c188"
      },
      "execution_count": 36,
      "outputs": [
        {
          "output_type": "error",
          "ename": "TypeError",
          "evalue": "'tuple' object does not support item assignment",
          "traceback": [
            "\u001b[0;31m---------------------------------------------------------------------------\u001b[0m",
            "\u001b[0;31mTypeError\u001b[0m                                 Traceback (most recent call last)",
            "\u001b[0;32m/tmp/ipython-input-244759177.py\u001b[0m in \u001b[0;36m<cell line: 0>\u001b[0;34m()\u001b[0m\n\u001b[0;32m----> 1\u001b[0;31m \u001b[0mdimensions\u001b[0m\u001b[0;34m[\u001b[0m\u001b[0;36m1\u001b[0m\u001b[0;34m]\u001b[0m\u001b[0;34m=\u001b[0m\u001b[0;36m2\u001b[0m\u001b[0;34m\u001b[0m\u001b[0;34m\u001b[0m\u001b[0m\n\u001b[0m",
            "\u001b[0;31mTypeError\u001b[0m: 'tuple' object does not support item assignment"
          ]
        }
      ]
    },
    {
      "cell_type": "code",
      "source": [
        "student = {\n",
        "    \"name\": \"Alex\",\n",
        "    \"course\": \"AI Fundamentals\",\n",
        "    \"lab_completed\": 1\n",
        "}\n",
        "print(\"Student info:\", student)"
      ],
      "metadata": {
        "id": "hF7OVPUkadds",
        "colab": {
          "base_uri": "https://localhost:8080/"
        },
        "outputId": "a9374ef5-c21c-4fa5-e634-6f9ff8d10590"
      },
      "execution_count": 40,
      "outputs": [
        {
          "output_type": "stream",
          "name": "stdout",
          "text": [
            "Student info: {'name': 'Alex', 'course': 'AI Fundamentals', 'lab_completed': 1}\n"
          ]
        }
      ]
    },
    {
      "cell_type": "code",
      "source": [
        "student['name']"
      ],
      "metadata": {
        "colab": {
          "base_uri": "https://localhost:8080/",
          "height": 35
        },
        "id": "l_sVW1aTjRAY",
        "outputId": "e78ac028-a7b1-448c-bd5f-5ea0b9ab3b4a"
      },
      "execution_count": 41,
      "outputs": [
        {
          "output_type": "execute_result",
          "data": {
            "text/plain": [
              "'Alex'"
            ],
            "application/vnd.google.colaboratory.intrinsic+json": {
              "type": "string"
            }
          },
          "metadata": {},
          "execution_count": 41
        }
      ]
    },
    {
      "cell_type": "code",
      "source": [
        "student['name']='Ahmed'\n",
        "student['name']"
      ],
      "metadata": {
        "colab": {
          "base_uri": "https://localhost:8080/",
          "height": 35
        },
        "id": "AGojqm7cjaL3",
        "outputId": "6ce5f74a-7352-45c7-8865-7ce4d9af3f1f"
      },
      "execution_count": 44,
      "outputs": [
        {
          "output_type": "execute_result",
          "data": {
            "text/plain": [
              "'Ahmed'"
            ],
            "application/vnd.google.colaboratory.intrinsic+json": {
              "type": "string"
            }
          },
          "metadata": {},
          "execution_count": 44
        }
      ]
    },
    {
      "cell_type": "markdown",
      "source": [
        "# Python Operators\n",
        "\n",
        "Python can be used like a calculator. Simply type in expressions to get them evaluated.\n",
        "\n",
        "**What are operators in python?**\n",
        "\n",
        "Operators are special **symbols** in Python that carry out **arithmetic** or **logical computation**. The value that the operator operates on is called the **operand**."
      ],
      "metadata": {
        "id": "p4KDqc7P3cu2"
      }
    },
    {
      "cell_type": "markdown",
      "source": [
        "## 1. Arithmatic Operators\n",
        "\n",
        "Arithmetic operators are used to perform **mathematical operations** like **addition**, **subtraction**, **multiplication** etc.\n",
        "\n",
        "| Symbol | Task Performed | Meaning | Example |\n",
        "|:------:|:---------------| :------: |:--------:|\n",
        "| **`+`**      | Addition | add two operands or unary plus | **x + y** or **+2** |\n",
        "| **`-`**      | Subtraction | substract right operand from the left or unary minus | **x - y** or **-2** |\n",
        "| **`*`**      | Multiplication | Multiply two operands | **x \\* y** |\n",
        "| **`/`**      | Division | Divide left operand by the right one (always results into float) | **x / y** |\n",
        "| **`%`**      | Modulus (remainder) | remainder of the division of left operand by the right | **x % y** (remainder of **x/y**) |\n",
        "| **`//`**     | Integer/Floor division | division that results into whole number adjusted to the left in the number line | **x // y** |\n",
        "| <b>`**`</b>     | Exponentiation (power) | left operand raised to the power of right | **x \\*\\* y** (**x** to the power **y**) |\n",
        "\n",
        "As expected these operations generally promote to the most general type of any of the numbers involved i.e. int -> float -> complex."
      ],
      "metadata": {
        "id": "FxRJ7ccN3sF3"
      }
    },
    {
      "cell_type": "code",
      "source": [
        "x = 7\n",
        "y = 3\n",
        "result = x // y\n",
        "print(result)"
      ],
      "metadata": {
        "id": "xFklLmaJCm7-",
        "colab": {
          "base_uri": "https://localhost:8080/"
        },
        "outputId": "6c1a7d26-1c5c-4eea-cf90-9c774d814069"
      },
      "execution_count": 45,
      "outputs": [
        {
          "output_type": "stream",
          "name": "stdout",
          "text": [
            "2\n"
          ]
        }
      ]
    },
    {
      "cell_type": "code",
      "source": [
        "x = -7\n",
        "y = 3\n",
        "result = x // y\n",
        "print(result)"
      ],
      "metadata": {
        "id": "tUfDobhyCqbi",
        "colab": {
          "base_uri": "https://localhost:8080/"
        },
        "outputId": "652fd445-edb4-4cfb-8a87-ecca2847f175"
      },
      "execution_count": 46,
      "outputs": [
        {
          "output_type": "stream",
          "name": "stdout",
          "text": [
            "-3\n"
          ]
        }
      ]
    },
    {
      "cell_type": "markdown",
      "source": [
        "## 2. Comparison/Relational operators\n",
        "\n",
        "Comparison operators are used to **compare values**. It either returns **True** or **False** according to the **condition**.\n",
        "\n",
        "| Symbol | Task Performed | Meaning | Example |\n",
        "|:----:| :--- |:--- |:---: |\n",
        "| **`>`** | greater than | True if left operand is greater than the right | **x > y** |\n",
        "| **`<`** | less than | True if left operand is less than the right | **x < y** |\n",
        "| **`==`** | equal to | True if both operands are equal | **x == y** |\n",
        "| **`!=`**  | not equal to | True if both operands are not equal | **x != y** |\n",
        "| **`>=`**  | greater than or equal to | True if left operand is greater than or equal to the right | **x >= y** |\n",
        "| **`<=`**  | less than or equal to | True if left operand is less than or equal to the right | **x <= y** |\n",
        "\n",
        "Note the difference between **`==`** (equality test) and **`=`** (assignment)\n"
      ],
      "metadata": {
        "id": "5Qx7pKqx4Na6"
      }
    },
    {
      "cell_type": "markdown",
      "source": [
        "\n",
        "### 3. Control Flow\n"
      ],
      "metadata": {
        "id": "CwPnSo9rbaY-"
      }
    },
    {
      "cell_type": "code",
      "source": [
        "# If-else\n",
        "grade = 85\n",
        "if grade >= 90:\n",
        "    print(\"A\")\n",
        "elif grade >= 80:\n",
        "    print(\"B\")\n",
        "else:\n",
        "    print(\"Need improvement\")"
      ],
      "metadata": {
        "id": "nAOJIsISbP0P",
        "colab": {
          "base_uri": "https://localhost:8080/"
        },
        "outputId": "0ebd0df8-6280-4eb1-f910-2102027491fb"
      },
      "execution_count": 47,
      "outputs": [
        {
          "output_type": "stream",
          "name": "stdout",
          "text": [
            "B\n"
          ]
        }
      ]
    },
    {
      "cell_type": "markdown",
      "source": [
        "# Python `if-elif-else` statement\n",
        "\n",
        "So far, we have presented a Boolean option for conditional statements, with each **[if statement]()** evaluating to either **`True`** or **`False`**. In Python, the **`if-elif-else`** condition statement has an **`elif`** keyword used to chain multiple conditions one after another."
      ],
      "metadata": {
        "id": "ilmasgc0Q3t5"
      }
    },
    {
      "cell_type": "markdown",
      "source": [
        "### Syntax:\n",
        "\n",
        "```python\n",
        "if condition-1:  \n",
        "     statement 1\n",
        "elif condition-2:\n",
        "     stetement 2\n",
        "elif condition-3:\n",
        "     stetement 3\n",
        "     ...         \n",
        "else:            \n",
        "     statement  \n",
        "```\n",
        "\n",
        "1. The **`elif`** is short for else if. It allows us to check for multiple expressions.\n",
        "\n",
        "2. If the condition for **`if`** is **`False`**, it checks the condition of the next **`elif`** block and so on.\n",
        "\n",
        "3. If all the conditions are **`False`**, the body of **`else`** is executed.\n",
        "\n",
        "4. Only one block among the several **`if-elif-else`** blocks is executed according to the condition.\n",
        "\n",
        "5. The **`if`** block can have only one **`else`** block. But it can have multiple **`elif`** blocks."
      ],
      "metadata": {
        "id": "xqBfIXSCQ5Nw"
      }
    },
    {
      "cell_type": "code",
      "source": [
        "num=int(input())\n",
        "if num > 0:\n",
        "    print(\"Positive number\")\n",
        "elif num == 0:\n",
        "    print(\"Zero\")\n",
        "else:\n",
        "    print(\"Negative number\")"
      ],
      "metadata": {
        "id": "VZP8FtQlt34f"
      },
      "execution_count": null,
      "outputs": []
    },
    {
      "cell_type": "code",
      "source": [
        "# For loop\n",
        "print(\"\\nCounting even numbers:\")\n",
        "for i in range(0, 10):\n",
        "    print(i, end=\" \")"
      ],
      "metadata": {
        "id": "S-KeV-IqcJtX",
        "colab": {
          "base_uri": "https://localhost:8080/"
        },
        "outputId": "db4c6042-d84d-4b30-9719-5f0584a9a75d"
      },
      "execution_count": 49,
      "outputs": [
        {
          "output_type": "stream",
          "name": "stdout",
          "text": [
            "\n",
            "Counting even numbers:\n",
            "0 1 2 3 4 5 6 7 8 9 "
          ]
        }
      ]
    },
    {
      "cell_type": "code",
      "source": [
        "fruits = [\"apple\", \"banana\", \"cherry\"]\n",
        "for fruit in fruits:\n",
        "    print(fruit)\n",
        "\n",
        "# Example 2: Iterating over a range of numbers:\n",
        "\n",
        "for i in range(5):\n",
        "    print(i)"
      ],
      "metadata": {
        "id": "-eJwHH2pueW0",
        "colab": {
          "base_uri": "https://localhost:8080/"
        },
        "outputId": "c17b7ef0-2874-4672-db08-541d52bb44f4"
      },
      "execution_count": 50,
      "outputs": [
        {
          "output_type": "stream",
          "name": "stdout",
          "text": [
            "apple\n",
            "banana\n",
            "cherry\n",
            "0\n",
            "1\n",
            "2\n",
            "3\n",
            "4\n"
          ]
        }
      ]
    },
    {
      "cell_type": "code",
      "source": [
        "# While loop\n",
        "print(\"\\n\\nCountdown:\")\n",
        "count = 5\n",
        "while count > 0:\n",
        "    print(count, end=\" \")\n",
        "    count -= 1"
      ],
      "metadata": {
        "id": "TNqEAUu6cMtG",
        "colab": {
          "base_uri": "https://localhost:8080/"
        },
        "outputId": "069d0a48-2aaf-4c7b-87c2-82b02e09b269"
      },
      "execution_count": 51,
      "outputs": [
        {
          "output_type": "stream",
          "name": "stdout",
          "text": [
            "\n",
            "\n",
            "Countdown:\n",
            "5 4 3 2 1 "
          ]
        }
      ]
    },
    {
      "cell_type": "code",
      "source": [
        "# Example 1: Print even and odd numbers between 1 to the entered number.\n",
        "\n",
        "n = int(input('Please Enter Number '))\n",
        "while n > 0:\n",
        "    # check even and odd\n",
        "    if n % 2 == 0:\n",
        "        print(n, 'is a even number')\n",
        "    else:\n",
        "        print(n, 'is a odd number')\n",
        "    # decrease number by 1 in each iteration\n",
        "    n = n - 1"
      ],
      "metadata": {
        "id": "EsJe7zKdu1ia"
      },
      "execution_count": null,
      "outputs": []
    },
    {
      "cell_type": "markdown",
      "source": [
        "### 4. Functions"
      ],
      "metadata": {
        "id": "C21biUv4dVWc"
      }
    },
    {
      "cell_type": "code",
      "source": [
        "def number_arithmetic(num1, num2):\n",
        "    if num1 >= num2:\n",
        "        if num1 == num2:\n",
        "            print(f'{num1} and {num2} are equal')\n",
        "        else:\n",
        "            print(f'{num1} is greater than {num2}')\n",
        "    else:\n",
        "        print(f'{num1} is smaller than {num2}')"
      ],
      "metadata": {
        "id": "Le3tvXe4uHyj"
      },
      "execution_count": null,
      "outputs": []
    },
    {
      "cell_type": "code",
      "source": [
        "def calculate_accuracy(true_pos, true_neg, total):\n",
        "    return (true_pos + true_neg) / total\n",
        "\n",
        "accuracy = calculate_accuracy(45, 30, 100)\n",
        "print(f\"\\nModel accuracy: {accuracy:.2f} or {accuracy*100:.1f}%\")"
      ],
      "metadata": {
        "id": "sye5Z3VzdWSM"
      },
      "execution_count": null,
      "outputs": []
    },
    {
      "cell_type": "markdown",
      "source": [
        "### 5. NumPy Basics (Preview for next lab)"
      ],
      "metadata": {
        "id": "7ZyxJbFud41d"
      }
    },
    {
      "cell_type": "code",
      "source": [
        "import numpy as np\n",
        "# Create arrays\n",
        "array_1d = np.array([1, 2, 3, 4, 5])\n",
        "array_2d = np.array([[1, 2], [3, 4]])\n",
        "\n",
        "print(\"1D Array:\", array_1d)\n",
        "print(\"2D Array:\\n\", array_2d)\n",
        "\n",
        "# Basic operations\n",
        "print(\"\\nArray operations:\")\n",
        "print(\"Sum:\", np.sum(array_1d))\n",
        "print(\"Mean:\", np.mean(array_1d))\n",
        "print(\"Reshaped array:\\n\", array_1d.reshape(5, 1))"
      ],
      "metadata": {
        "id": "VGYGw33Ad6Mz"
      },
      "execution_count": null,
      "outputs": []
    },
    {
      "cell_type": "markdown",
      "source": [
        "###Part 3:Saving to GitHub\n",
        "\n",
        "#Saving the notebook to GitHub\n",
        "# Note: You'll need to authenticate first\n",
        "\n",
        "# Steps:\n",
        "# 1. Click \"File\" → \"Save a copy in GitHub\"\n",
        "# 2. Select your repository\n",
        "# 3. Add a commit message\n",
        "# 4. Click \"OK\""
      ],
      "metadata": {
        "id": "rjX_VNROe6hh"
      }
    }
  ]
}